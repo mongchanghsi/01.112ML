{
 "cells": [
  {
   "cell_type": "markdown",
   "metadata": {},
   "source": [
    "# Machine Learning Pset 1 Question 1\n",
    "## Mong Chang Hsi\n",
    "## 1003085\n",
    "\n",
    "#### People who I've talked to Xiang Qian, Jireh and Andri"
   ]
  },
  {
   "cell_type": "code",
   "execution_count": 158,
   "metadata": {},
   "outputs": [],
   "source": [
    "# importing all the relevant libraries\n",
    "\n",
    "from random import seed\n",
    "from random import randrange\n",
    "from csv import reader"
   ]
  },
  {
   "cell_type": "code",
   "execution_count": 159,
   "metadata": {},
   "outputs": [],
   "source": [
    "# Load a CSV File\n",
    "\n",
    "def load_csv(filename):\n",
    "    dataset = list()\n",
    "    with open(filename, 'r') as file:\n",
    "        csv_reader = reader(file)\n",
    "        for row in csv_reader:\n",
    "            if not row:\n",
    "                continue\n",
    "            dataset.append(row)\n",
    "    return dataset"
   ]
  },
  {
   "cell_type": "code",
   "execution_count": 160,
   "metadata": {},
   "outputs": [],
   "source": [
    "# convert string col into float\n",
    "\n",
    "def str_column_to_float(dataset, column):\n",
    "    for row in dataset:\n",
    "        row[column] = float(row[column].strip())"
   ]
  },
  {
   "cell_type": "code",
   "execution_count": 161,
   "metadata": {
    "scrolled": true
   },
   "outputs": [],
   "source": [
    "# Perceptron Function\n",
    "\n",
    "def Perceptron(dataset, weights):\n",
    "    for row in dataset:\n",
    "        check = row[2] * (row[0]*weights[0] + row[1]*weights[1]) #checking whether do we need to update the weight\n",
    "        if check <= 0: # update the weight:\n",
    "            weights[0] += row[2]*row[0]\n",
    "            weights[1] += row[2]*row[1]\n",
    "        else:\n",
    "            continue\n",
    "    return weights"
   ]
  },
  {
   "cell_type": "code",
   "execution_count": 162,
   "metadata": {},
   "outputs": [],
   "source": [
    "# Accuracy function\n",
    "\n",
    "def accuracytest(dataset, weights):\n",
    "    training_error = 0\n",
    "    for row in dataset:\n",
    "        predicted = 0\n",
    "        for i in range(len(row)-1):\n",
    "            predicted += row[i]*weights[i]\n",
    "        if predicted < 0:\n",
    "            predicted = -1\n",
    "        else:\n",
    "            predicted = 1\n",
    "        training_error += abs(predicted - row[2])\n",
    "    normalized_training_error = training_error / len(dataset)\n",
    "    return 100 - (normalized_training_error * 100)"
   ]
  },
  {
   "cell_type": "markdown",
   "metadata": {},
   "source": [
    "## Part a - 5 iterations"
   ]
  },
  {
   "cell_type": "code",
   "execution_count": 181,
   "metadata": {},
   "outputs": [
    {
     "name": "stdout",
     "output_type": "stream",
     "text": [
      "The Training Accuracy is 94.71007121057986 % for 5 iterations\n"
     ]
    }
   ],
   "source": [
    "# calibrating the training data set\n",
    "\n",
    "filename = 'train_1_5.csv' #insert the relevant filename to be used\n",
    "training_set = load_csv(filename)\n",
    "for i in range(len(training_set[0])): #convert every item in the list into a float, except for the 1 / -1 \n",
    "    str_column_to_float(training_set,i)\n",
    "\n",
    "weights = [0.1,0.1]\n",
    "n_iteration = 5\n",
    "\n",
    "for i in range(n_iteration):\n",
    "    weights = Perceptron(training_set, weights)\n",
    "    i += 1\n",
    "\n",
    "print(\"The Training Accuracy is\", accuracytest(training_set, weights), '%', 'for 5 iterations')"
   ]
  },
  {
   "cell_type": "code",
   "execution_count": 180,
   "metadata": {},
   "outputs": [
    {
     "name": "stdout",
     "output_type": "stream",
     "text": [
      "The Test Accuracy is 92.61477045908184 % for 5 iterations\n"
     ]
    }
   ],
   "source": [
    "# calibrating the test data set\n",
    "\n",
    "filename2 = 'test_1_5.csv'\n",
    "test_set = load_csv(filename2)\n",
    "for i in range(len(test_set[0])):\n",
    "    str_column_to_float(test_set,i)\n",
    "\n",
    "print(\"The Test Accuracy is\", accuracytest(test_set, weights), '%', 'for 5 iterations')"
   ]
  },
  {
   "cell_type": "markdown",
   "metadata": {},
   "source": [
    "## Part b - 10 iterations"
   ]
  },
  {
   "cell_type": "code",
   "execution_count": 183,
   "metadata": {},
   "outputs": [
    {
     "name": "stdout",
     "output_type": "stream",
     "text": [
      "The Training Accuracy is 94.3031536113937 % for 10 iterations\n"
     ]
    }
   ],
   "source": [
    "# calibrating the training data set\n",
    "\n",
    "filename = 'train_1_5.csv' #insert the relevant filename to be used\n",
    "training_set = load_csv(filename)\n",
    "for i in range(len(training_set[0])): #convert every item in the list into a float, except for the 1 / -1 \n",
    "    str_column_to_float(training_set,i)\n",
    "\n",
    "weights = [0.1,0.1]\n",
    "n_iteration = 10\n",
    "\n",
    "for i in range(n_iteration):\n",
    "    weights = Perceptron(training_set, weights)\n",
    "    i += 1\n",
    "\n",
    "print(\"The Training Accuracy is\", accuracytest(training_set, weights), '%', 'for 10 iterations')"
   ]
  },
  {
   "cell_type": "code",
   "execution_count": 184,
   "metadata": {},
   "outputs": [
    {
     "name": "stdout",
     "output_type": "stream",
     "text": [
      "The Test Accuracy is 93.21357285429141 % for 10 iterations\n"
     ]
    }
   ],
   "source": [
    "# calibrating the test data set\n",
    "\n",
    "filename2 = 'test_1_5.csv'\n",
    "test_set = load_csv(filename2)\n",
    "for i in range(len(test_set[0])):\n",
    "    str_column_to_float(test_set,i)\n",
    "\n",
    "print(\"The Test Accuracy is\", accuracytest(test_set, weights), '%', 'for 10 iterations')"
   ]
  },
  {
   "cell_type": "code",
   "execution_count": null,
   "metadata": {},
   "outputs": [],
   "source": []
  }
 ],
 "metadata": {
  "kernelspec": {
   "display_name": "Python 3",
   "language": "python",
   "name": "python3"
  },
  "language_info": {
   "codemirror_mode": {
    "name": "ipython",
    "version": 3
   },
   "file_extension": ".py",
   "mimetype": "text/x-python",
   "name": "python",
   "nbconvert_exporter": "python",
   "pygments_lexer": "ipython3",
   "version": "3.7.3"
  }
 },
 "nbformat": 4,
 "nbformat_minor": 2
}
