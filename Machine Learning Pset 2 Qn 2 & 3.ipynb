{
 "cells": [
  {
   "cell_type": "markdown",
   "metadata": {},
   "source": [
    "# Machine Learning Pset 2 Qn 2 & 3\n",
    "\n",
    "## Mong Chang Hsi\n",
    "\n",
    "## 1003085"
   ]
  },
  {
   "cell_type": "markdown",
   "metadata": {},
   "source": [
    "## Qn 2"
   ]
  },
  {
   "cell_type": "code",
   "execution_count": 7,
   "metadata": {},
   "outputs": [],
   "source": [
    "# import relevant libraries\n",
    "\n",
    "import math"
   ]
  },
  {
   "cell_type": "code",
   "execution_count": 8,
   "metadata": {},
   "outputs": [],
   "source": [
    "# initiating data points\n",
    "\n",
    "x0 = [0,0]\n",
    "points = {'x1':[4,4], 'x2':[0,-6], 'x3':[-5,2]}"
   ]
  },
  {
   "cell_type": "code",
   "execution_count": 9,
   "metadata": {},
   "outputs": [
    {
     "name": "stdout",
     "output_type": "stream",
     "text": [
      "{'x1': 5.656854249492381, 'x2': 6.0, 'x3': 5.385164807134504}\n"
     ]
    }
   ],
   "source": [
    "# function l2\n",
    "\n",
    "def l2(points, x0):\n",
    "    distl2 = {}\n",
    "    for i in points:\n",
    "        dist = math.sqrt( (points[i][0] - x0[0])**2 + (points[i][1] - x0[1])**2 )\n",
    "        distl2[i] = dist\n",
    "    return distl2\n",
    "\n",
    "print(l2(points,x0))"
   ]
  },
  {
   "cell_type": "code",
   "execution_count": 10,
   "metadata": {},
   "outputs": [
    {
     "name": "stdout",
     "output_type": "stream",
     "text": [
      "{'x1': 8, 'x2': 6, 'x3': 7}\n"
     ]
    }
   ],
   "source": [
    "# function l1\n",
    "\n",
    "def l1(points, x0):\n",
    "    distl1 = {}\n",
    "    for i in points:\n",
    "        dist = abs(points[i][0] - x0[0]) + abs(points[i][1] - x0[1])\n",
    "        distl1[i] = dist\n",
    "    return distl1\n",
    "\n",
    "print(l1(points,x0))"
   ]
  },
  {
   "cell_type": "code",
   "execution_count": 25,
   "metadata": {},
   "outputs": [
    {
     "name": "stdout",
     "output_type": "stream",
     "text": [
      "{'x1': [4, 4], 'x2': [0, 6], 'x3': [5, 2]}\n",
      "{'x1': 4, 'x2': 6, 'x3': 5}\n"
     ]
    }
   ],
   "source": [
    "# function l-infinity\n",
    "\n",
    "def linfi(points, x0):\n",
    "    distlinfi = {}\n",
    "    for i in points:\n",
    "        dist = []\n",
    "        for j in range(len(points[i])):\n",
    "            dist.append(abs(points[i][j] - x0[j]))\n",
    "        distlinfi[i] = dist\n",
    "    return distlinfi\n",
    "\n",
    "linfi_output = linfi(points,x0)\n",
    "print(linfi_output)\n",
    "\n",
    "def filtering(y):\n",
    "    final = {}\n",
    "    for i in y:\n",
    "        final[i] = max(y[i])\n",
    "    return final\n",
    "\n",
    "filtered_dist = filtering(linfi_output)\n",
    "print(filtered_dist)"
   ]
  },
  {
   "cell_type": "code",
   "execution_count": 40,
   "metadata": {},
   "outputs": [
    {
     "name": "stdout",
     "output_type": "stream",
     "text": [
      "For Equation 1, l2 ('Point X0 is clustered with', 'x3')\n",
      "Hence Distance Measure Equation 1 is used in Graph B\n",
      "\n",
      "\n",
      "For Equation 2, l1 ('Point X0 is clustered with', 'x2')\n",
      "Hence Distance Measure Equation 2 is used in Graph C\n",
      "\n",
      "\n",
      "For Equation 3, linfi ('Point X0 is clustered with', 'x1')\n",
      "Hence Distance Measure Equation 3 is used in Graph A\n"
     ]
    }
   ],
   "source": [
    "# finding the minimum for all outputs\n",
    "\n",
    "def minimum_func(func):\n",
    "    min_value = min(func.values())\n",
    "    for key, value in func.items():\n",
    "        if value == min_value:\n",
    "            return 'Point X0 is clustered with', key\n",
    "    \n",
    "print('For Equation 1, l2', minimum_func(l2(points,x0)))\n",
    "print('Hence Distance Measure Equation 1 is used in Graph B')\n",
    "print('\\n')\n",
    "print('For Equation 2, l1', minimum_func(l1(points,x0)))\n",
    "print('Hence Distance Measure Equation 2 is used in Graph C')\n",
    "print('\\n')\n",
    "print('For Equation 3, linfi', minimum_func(filtered_dist))\n",
    "print('Hence Distance Measure Equation 3 is used in Graph A')"
   ]
  },
  {
   "cell_type": "markdown",
   "metadata": {},
   "source": [
    "## Qn 3"
   ]
  },
  {
   "cell_type": "markdown",
   "metadata": {},
   "source": [
    "### Advantages\n",
    "#### 1. Produce empty clusters\n",
    "#### 2. Less sensitive to outliers compared to k-means\n",
    "#### 3. Fast and convergent in finite number of steps\n",
    "\n",
    "### Disadvantages\n",
    "#### 1. They are not suitable for clustering non-spherical groups of objects.\n",
    "#### 2. May obtain different results for different runs on the same dataset because the first k medoids are chosen randomly\n",
    "#### 3. Have to determine the value of k in advance"
   ]
  },
  {
   "cell_type": "code",
   "execution_count": null,
   "metadata": {},
   "outputs": [],
   "source": []
  }
 ],
 "metadata": {
  "kernelspec": {
   "display_name": "Python 3",
   "language": "python",
   "name": "python3"
  },
  "language_info": {
   "codemirror_mode": {
    "name": "ipython",
    "version": 3
   },
   "file_extension": ".py",
   "mimetype": "text/x-python",
   "name": "python",
   "nbconvert_exporter": "python",
   "pygments_lexer": "ipython3",
   "version": "3.7.3"
  }
 },
 "nbformat": 4,
 "nbformat_minor": 2
}
