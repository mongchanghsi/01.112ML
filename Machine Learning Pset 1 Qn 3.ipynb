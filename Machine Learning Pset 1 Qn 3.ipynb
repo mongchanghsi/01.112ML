{
 "cells": [
  {
   "cell_type": "markdown",
   "metadata": {},
   "source": [
    "# Machine Learning Pset 1 Question 3\n",
    "## Mong Chang Hsi\n",
    "## 1003085\n",
    "\n",
    "#### People who I've talked to Xiang Qian, Jireh and Andri"
   ]
  },
  {
   "cell_type": "code",
   "execution_count": 38,
   "metadata": {},
   "outputs": [],
   "source": [
    "# import the relevant libraries\n",
    "\n",
    "import numpy as np\n",
    "from numpy.linalg import inv\n",
    "import matplotlib.pyplot as plt"
   ]
  },
  {
   "cell_type": "code",
   "execution_count": 30,
   "metadata": {
    "scrolled": true
   },
   "outputs": [],
   "source": [
    "# Reading the Input Files\n",
    "with open(\"hw1_ridge_x.dat\", \"r\") as reader:\n",
    "    input_data = []\n",
    "    for line in reader.readlines():\n",
    "        line = line.replace(\"\\n\", \"\")\n",
    "        line = line.split(\",\")\n",
    "        for i in range(len(line)):\n",
    "            line[i] = float(line[i])\n",
    "        line = np.array(line)\n",
    "        input_data.append(line)\n",
    "input_data = np.array(input_data)\n",
    "\n",
    "\n",
    "# Reading the Output Files\n",
    "with open(\"hw1_ridge_y.dat\", \"r\") as reader:\n",
    "    output_data = []\n",
    "    for line in reader.readlines():\n",
    "        line = line.replace(\"\\n\", \"\")\n",
    "        line = line.split(\",\")\n",
    "        for i in range(len(line)):\n",
    "            line[i] = float(line[i])\n",
    "        line = np.array(line)\n",
    "        output_data.append(line)\n",
    "output_Data = np.array(output_data)"
   ]
  },
  {
   "cell_type": "markdown",
   "metadata": {},
   "source": [
    "## Part a"
   ]
  },
  {
   "cell_type": "code",
   "execution_count": 51,
   "metadata": {},
   "outputs": [
    {
     "name": "stdout",
     "output_type": "stream",
     "text": [
      "The Value is [[-0.57293812]\n",
      " [ 1.34849   ]\n",
      " [ 0.03132541]\n",
      " [-1.85105483]]\n"
     ]
    }
   ],
   "source": [
    "# Separating the dataset into validation and training sets\n",
    "\n",
    "v_input = input_data[:10]\n",
    "t_input = input_data[10:]\n",
    "\n",
    "v_output = output_data[:10]\n",
    "t_output = output_data[10:]\n",
    "\n",
    "def ridge_regression(tX, tY, l):\n",
    "    n = tX.shape[1] # taking the col size\n",
    "    weight = inv(n * l * np.identity(n) + tX.transpose().dot(tX)).dot(tX.transpose()).dot(tY)\n",
    "    return weight\n",
    "\n",
    "print(\"The Value is \" + str(ridge_regression(t_input, t_output, 0.15)))"
   ]
  },
  {
   "cell_type": "markdown",
   "metadata": {},
   "source": [
    "## Part b"
   ]
  },
  {
   "cell_type": "code",
   "execution_count": 50,
   "metadata": {},
   "outputs": [
    {
     "name": "stdout",
     "output_type": "stream",
     "text": [
      "Minimum validation loss for λ = -0.9\n"
     ]
    },
    {
     "data": {
      "image/png": "[encoded data removed]",
      "text/plain": [
       "<Figure size 432x288 with 1 Axes>"
      ]
     },
     "metadata": {
      "needs_background": "light"
     },
     "output_type": "display_data"
    }
   ],
   "source": [
    "tn = t_input.shape[0]\n",
    "vn = v_input.shape[0]\n",
    "training_loss = []\n",
    "validation_loss = []\n",
    "index = -np.arange( 0 , 5 , 0.1 )\n",
    "\n",
    "for i in index:\n",
    "    weight = ridge_regression(t_input, t_output, 10**i)\n",
    "    training_loss = training_loss + [np.sum((np.dot(t_input, weight) - t_output) ** 2) / tn / 2]\n",
    "    validation_loss = validation_loss + [np.sum((np.dot(v_input, weight) - v_output) ** 2) / vn / 2]\n",
    "    \n",
    "plt.plot(index,np.log(training_loss),'r')\n",
    "plt.plot(index,np.log(validation_loss),'b')\n",
    "\n",
    "print(\"Minimum validation loss for λ =\", index[validation_loss.index(min(validation_loss))])"
   ]
  },
  {
   "cell_type": "code",
   "execution_count": null,
   "metadata": {},
   "outputs": [],
   "source": []
  }
 ],
 "metadata": {
  "kernelspec": {
   "display_name": "Python 3",
   "language": "python",
   "name": "python3"
  },
  "language_info": {
   "codemirror_mode": {
    "name": "ipython",
    "version": 3
   },
   "file_extension": ".py",
   "mimetype": "text/x-python",
   "name": "python",
   "nbconvert_exporter": "python",
   "pygments_lexer": "ipython3",
   "version": "3.7.3"
  }
 },
 "nbformat": 4,
 "nbformat_minor": 2
}
