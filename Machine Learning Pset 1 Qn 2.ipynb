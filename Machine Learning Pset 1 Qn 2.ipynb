{
 "cells": [
  {
   "cell_type": "markdown",
   "metadata": {},
   "source": [
    "# Machine Learning Pset 1 Question 2\n",
    "## Mong Chang Hsi\n",
    "## 1003085\n",
    "\n",
    "#### People who I've talked to Xiang Qian, Jireh and Andri"
   ]
  },
  {
   "cell_type": "code",
   "execution_count": 167,
   "metadata": {},
   "outputs": [],
   "source": [
    "# import all the relevant libraries\n",
    "\n",
    "import pandas as pd\n",
    "import numpy as np\n",
    "import matplotlib.pyplot as plt\n",
    "import csv\n",
    "from sklearn.metrics import accuracy_score\n",
    "from numpy.linalg import inv\n",
    "import random\n",
    "from matplotlib.pyplot import cm"
   ]
  },
  {
   "cell_type": "code",
   "execution_count": 168,
   "metadata": {
    "scrolled": true
   },
   "outputs": [],
   "source": [
    "# Reading the Input Files\n",
    "with open(\"hw1x.dat\", \"r\") as reader:\n",
    "    input_data = []\n",
    "    for line in reader.readlines():\n",
    "        input_data.append(line.strip())\n",
    "    input_data.pop(len(input_data)-1)\n",
    "    for index in range(len(input_data)):\n",
    "        input_data[index] = float(input_data[index])\n",
    "\n",
    "# Reading the Output Files\n",
    "with open(\"hw1y.dat\", \"r\") as reader:\n",
    "    output_data = []\n",
    "    for line in reader.readlines():\n",
    "        output_data.append(line)\n",
    "    output_data.pop(len(output_data)-1)\n",
    "    for index in range(len(output_data)):\n",
    "        output_data[index] = float(output_data[index])"
   ]
  },
  {
   "cell_type": "markdown",
   "metadata": {},
   "source": [
    "## Part a"
   ]
  },
  {
   "cell_type": "code",
   "execution_count": 169,
   "metadata": {},
   "outputs": [
    {
     "data": {
      "image/png": "[encoded data removed]",
      "text/plain": [
       "<Figure size 432x288 with 1 Axes>"
      ]
     },
     "metadata": {
      "needs_background": "light"
     },
     "output_type": "display_data"
    }
   ],
   "source": [
    "# Plotting a Scatter Plot\n",
    "\n",
    "plt.scatter(input_data, output_data)\n",
    "plt.xlabel(\"Input\")\n",
    "plt.ylabel(\"Output\")\n",
    "plt.show()"
   ]
  },
  {
   "cell_type": "markdown",
   "metadata": {},
   "source": [
    "## Part b"
   ]
  },
  {
   "cell_type": "code",
   "execution_count": 182,
   "metadata": {},
   "outputs": [
    {
     "name": "stdout",
     "output_type": "stream",
     "text": [
      "[3.2447227  1.78157138]\n"
     ]
    }
   ],
   "source": [
    "# adding in a new column vector of 1s\n",
    "\n",
    "input_np = np.array(input_data)\n",
    "output_np = np.array(output_data)\n",
    "\n",
    "clean_x = np.reshape(input_np, (200, 1))\n",
    "\n",
    "def closed_form_linear_regression(x, y):\n",
    "    # Add new column\n",
    "    intercept = np.ones(x.shape)\n",
    "    x = np.concatenate((intercept, x), 1)\n",
    "    \n",
    "    # Calculate the weight\n",
    "    a = x.transpose().dot(x) / len(x)\n",
    "    b = x.transpose().dot(y) / len(x)\n",
    "    weight = inv(a).dot(b)\n",
    "    return weight\n",
    "\n",
    "weight = closed_form_linear_regression(clean_x, output_np)"
   ]
  },
  {
   "cell_type": "code",
   "execution_count": 181,
   "metadata": {},
   "outputs": [
    {
     "data": {
      "image/png": "[encoded data removed]",
      "text/plain": [
       "<Figure size 432x288 with 1 Axes>"
      ]
     },
     "metadata": {
      "needs_background": "light"
     },
     "output_type": "display_data"
    }
   ],
   "source": [
    "new_y_plot = np.array((clean_x * weight[1]) + weight[0])\n",
    "\n",
    "# Plot the regression line\n",
    "plt.plot(input_data, new_y_plot)\n",
    "\n",
    "# Plot the original scatter plot\n",
    "plt.scatter(input_data, output_data, color=\"grey\")\n",
    "plt.show()"
   ]
  },
  {
   "cell_type": "markdown",
   "metadata": {},
   "source": [
    "## Part c"
   ]
  },
  {
   "cell_type": "code",
   "execution_count": 172,
   "metadata": {},
   "outputs": [
    {
     "name": "stdout",
     "output_type": "stream",
     "text": [
      "[116.25211505]\n"
     ]
    }
   ],
   "source": [
    "# Calculate the training error\n",
    "\n",
    "def training_error(y_predict, y_actual):\n",
    "    total_error = 0\n",
    "    for i in range(len(y_predict)):\n",
    "        total_error += ((y_actual[i] - y_predict[i])**2)/2\n",
    "    return total_error\n",
    "\n",
    "training_error_value = training_error(new_y_plot, output_data)\n",
    "print(training_error_value)"
   ]
  },
  {
   "cell_type": "markdown",
   "metadata": {},
   "source": [
    "## Part d"
   ]
  },
  {
   "cell_type": "code",
   "execution_count": 173,
   "metadata": {},
   "outputs": [
    {
     "name": "stdout",
     "output_type": "stream",
     "text": [
      "Weight with the minimum cost [[3.12056591]]\n"
     ]
    }
   ],
   "source": [
    "# Calculating weight using gradient descent\n",
    "\n",
    "def gradient_descent(x, y, learning_rate, iterations):\n",
    "    y = np.reshape(y, (200,1))\n",
    "    \n",
    "    weight_history = []\n",
    "    cost_history = []\n",
    "    \n",
    "    # initializing weight\n",
    "    weight = 0\n",
    "    \n",
    "    for i in range(iterations):\n",
    "        # updating the weight\n",
    "        weight += (-1 * learning_rate / len(x)) * ((weight * x) - y).transpose().dot(x)\n",
    "        \n",
    "        # recording weight\n",
    "        weight_history.append(weight)\n",
    "        \n",
    "        # recording cost\n",
    "        cost = (( weight * x ) - y ) ** 2 / 2\n",
    "        cost_history.append(np.sum(cost))\n",
    "\n",
    "    minimum_cost = min(cost_history)\n",
    "    best_weight_index = cost_history.index(minimum_cost)\n",
    "    best_weight = weight_history[best_weight_index]\n",
    "    print(\"Weight with the minimum cost\", best_weight)\n",
    "    \n",
    "gradient_descent(clean_x, output_np, 0.01, 100)\n"
   ]
  },
  {
   "cell_type": "markdown",
   "metadata": {},
   "source": [
    "## Part e"
   ]
  },
  {
   "cell_type": "code",
   "execution_count": 179,
   "metadata": {
    "scrolled": true
   },
   "outputs": [
    {
     "name": "stdout",
     "output_type": "stream",
     "text": [
      "Weight with the minimum cost [5.01017122]\n"
     ]
    }
   ],
   "source": [
    "def stochastic_gradient_descent(x , y, learning_rate, iterations):\n",
    "    y = np.reshape(y, (200,1))\n",
    "    \n",
    "    weight_history = []\n",
    "    cost_history = []\n",
    "    \n",
    "    weight = 0\n",
    "    \n",
    "    for i in range(iterations):\n",
    "        # random shuffling of data \n",
    "        random.shuffle(x)\n",
    "        \n",
    "        for r in range(len(x)):\n",
    "            # Error\n",
    "            partial_error = ((weight * x[r]) - y[r]) * x[r]\n",
    "\n",
    "            # updating the weight\n",
    "            weight += (-1)*(learning_rate * partial_error)\n",
    "    \n",
    "            # recording weight\n",
    "            weight_history.append(weight)\n",
    "\n",
    "            # recording cost\n",
    "            cost = (( weight * x[r] ) - y[r] ) ** 2 / 2\n",
    "            cost_history.append(cost)\n",
    "\n",
    "    minimum_cost = min(cost_history)\n",
    "    best_weight_index = cost_history.index(minimum_cost)\n",
    "    best_weight = weight_history[best_weight_index]\n",
    "    print(\"Weight with the minimum cost\", best_weight)\n",
    "\n",
    "stochastic_gradient_descent(clean_x, output_np, 0.01, 50)"
   ]
  },
  {
   "cell_type": "markdown",
   "metadata": {},
   "source": [
    "## Part f"
   ]
  },
  {
   "cell_type": "code",
   "execution_count": 175,
   "metadata": {},
   "outputs": [],
   "source": [
    "def PolyRegress(x, y, d, case):\n",
    "    x_original = x.copy()\n",
    "    for i in range(d - 1):\n",
    "        power = 2 + i\n",
    "        new_array = x ** power\n",
    "        x_original = np.concatenate((x_original, new_array), 1)\n",
    "        \n",
    "    a = x_original.transpose().dot(x_original)\n",
    "    b = x_original.transpose().dot(y)\n",
    "    \n",
    "    weight = inv(a).dot(b)\n",
    "    \n",
    "    if case == 0:\n",
    "        return weight\n",
    "    elif case == 1:\n",
    "        weight = np.reshape(weight, (-1,1))\n",
    "        return x_original.dot(weight)\n",
    "    else:\n",
    "        weight = np.reshape(weight, (-1,1))\n",
    "        y_coordinates = x_original.dot(weight)\n",
    "        error = np.sum(((y_coordinates - y) ** 2)/2)\n",
    "        return error"
   ]
  },
  {
   "cell_type": "markdown",
   "metadata": {},
   "source": [
    "## Part g"
   ]
  },
  {
   "cell_type": "code",
   "execution_count": 185,
   "metadata": {},
   "outputs": [
    {
     "name": "stderr",
     "output_type": "stream",
     "text": [
      "'c' argument looks like a single numeric RGB or RGBA sequence, which should be avoided as value-mapping will have precedence in case its length matches with 'x' & 'y'.  Please use a 2-D array with a single row if you really want to specify the same RGB or RGBA value for all points.\n"
     ]
    },
    {
     "name": "stdout",
     "output_type": "stream",
     "text": [
      "The Errror History: [116621.49307393824, 93785.18879956705, 84274.03552478421, 78270.58477926871, 74593.7180956832, 72189.48443101696, 70603.50002174886, 69551.6615834788]\n",
      "The error deceases at every order hence providing a better fit at higher order\n"
     ]
    },
    {
     "data": {
      "image/png": "[encoded data removed]",
      "text/plain": [
       "<Figure size 432x288 with 1 Axes>"
      ]
     },
     "metadata": {
      "needs_background": "light"
     },
     "output_type": "display_data"
    }
   ],
   "source": [
    "jet = plt.get_cmap('jet')\n",
    "color = iter(jet(np.linspace(0,1,10)))\n",
    "c=next(color)\n",
    "\n",
    "plt.scatter(clean_x, output_np, c=c)\n",
    "\n",
    "error_history = []\n",
    "\n",
    "for i in range(2,10):\n",
    "    y_coordinates = PolyRegress(clean_x, output_np, i, 1)\n",
    "    error_history.append(PolyRegress(clean_x, output_np, i, 2))\n",
    "    c=next(color)\n",
    "    plt.plot(clean_x, y_coordinates, c=c)\n",
    "    \n",
    "print(\"The Errror History:\", error_history)\n",
    "print(\"The error deceases at every order hence providing a better fit at higher order\")"
   ]
  },
  {
   "cell_type": "code",
   "execution_count": null,
   "metadata": {},
   "outputs": [],
   "source": []
  }
 ],
 "metadata": {
  "kernelspec": {
   "display_name": "Python 3",
   "language": "python",
   "name": "python3"
  },
  "language_info": {
   "codemirror_mode": {
    "name": "ipython",
    "version": 3
   },
   "file_extension": ".py",
   "mimetype": "text/x-python",
   "name": "python",
   "nbconvert_exporter": "python",
   "pygments_lexer": "ipython3",
   "version": "3.7.3"
  }
 },
 "nbformat": 4,
 "nbformat_minor": 2
}
